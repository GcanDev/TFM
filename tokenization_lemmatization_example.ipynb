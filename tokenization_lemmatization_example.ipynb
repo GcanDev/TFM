{
 "cells": [
  {
   "cell_type": "code",
   "execution_count": null,
   "metadata": {},
   "outputs": [],
   "source": [
    "import spacy\n",
    "from transformers import AutoTokenizer\n",
    "import string"
   ]
  },
  {
   "cell_type": "code",
   "execution_count": 2,
   "metadata": {},
   "outputs": [],
   "source": [
    "nlp = spacy.load(\"es_core_news_sm\")\n",
    "tokenizer = AutoTokenizer.from_pretrained(\"dccuchile/bert-base-spanish-wwm-cased\")"
   ]
  },
  {
   "cell_type": "code",
   "execution_count": 3,
   "metadata": {},
   "outputs": [],
   "source": [
    "def normalize_text(text):\n",
    "    \"\"\" Removes special characters, punctuation and converts text to lowercase.\n",
    "    Args:\n",
    "        text (str): Text to normalize.\n",
    "    Returns:\n",
    "        str: Normalized text.\n",
    "    \"\"\"\n",
    "    text = ''.join([char for char in text if char not in string.punctuation])\n",
    "    text = text.lower()\n",
    "    return text"
   ]
  },
  {
   "cell_type": "code",
   "execution_count": 4,
   "metadata": {},
   "outputs": [],
   "source": [
    "input_text = \"Cada vez me gusta más este tema. Los Transformers son geniales!\""
   ]
  },
  {
   "cell_type": "code",
   "execution_count": 5,
   "metadata": {},
   "outputs": [],
   "source": [
    "normalized_text = normalize_text(input_text)\n",
    "tokens_transformers = tokenizer.tokenize(normalized_text)\n",
    "texto_tokens = \" \".join(tokens_transformers)\n",
    "doc = nlp(texto_tokens)\n",
    "lemmas = [token.lemma_ for token in doc]\n",
    "lemmas_sin_stop_words = [lemma for lemma in lemmas if lemma not in nlp.Defaults.stop_words]"
   ]
  },
  {
   "cell_type": "code",
   "execution_count": 6,
   "metadata": {},
   "outputs": [
    {
     "name": "stdout",
     "output_type": "stream",
     "text": [
      "Texto: Cada vez me gusta más este tema. Los Transformers son geniales!\n",
      "\n",
      "Texto normalizado: cada vez me gusta más este tema los transformers son geniales\n",
      "\n",
      "Tokens with Transformers Library: ['cada', 'vez', 'me', 'gusta', 'más', 'este', 'tema', 'los', 'transform', '##ers', 'son', 'geniales']\n",
      "\n",
      "Lematización: ['cada', 'vez', 'yo', 'gustar', 'más', 'este', 'tema', 'el', 'transform', '#', '#', 'ers', 'ser', 'genial']\n",
      "\n",
      "Eliminación stop words: ['gustar', 'tema', 'transform', '#', '#', 'ers', 'genial']\n"
     ]
    }
   ],
   "source": [
    "print(f\"Texto: {input_text}\\n\")\n",
    "print(f\"Texto normalizado: {normalized_text}\\n\")\n",
    "print(f\"Tokens with Transformers Library: {tokens_transformers}\\n\")\n",
    "print(f\"Lematización: {lemmas}\\n\")\n",
    "print(f\"Eliminación stop words: {lemmas_sin_stop_words}\")"
   ]
  }
 ],
 "metadata": {
  "kernelspec": {
   "display_name": ".venv",
   "language": "python",
   "name": "python3"
  },
  "language_info": {
   "codemirror_mode": {
    "name": "ipython",
    "version": 3
   },
   "file_extension": ".py",
   "mimetype": "text/x-python",
   "name": "python",
   "nbconvert_exporter": "python",
   "pygments_lexer": "ipython3",
   "version": "3.10.7"
  }
 },
 "nbformat": 4,
 "nbformat_minor": 2
}
